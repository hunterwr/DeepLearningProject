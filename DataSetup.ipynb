{
 "cells": [
  {
   "cell_type": "code",
   "execution_count": 20,
   "metadata": {},
   "outputs": [
    {
     "name": "stderr",
     "output_type": "stream",
     "text": [
      "Downloading...\n",
      "From (original): https://drive.google.com/uc?id=15hGDLhsx8bLgLcIRD5DhYt5iBxnjNF1M\n",
      "From (redirected): https://drive.google.com/uc?id=15hGDLhsx8bLgLcIRD5DhYt5iBxnjNF1M&confirm=t&uuid=69ec88d8-6769-446a-95e7-6f29034846ab\n",
      "To: c:\\Users\\Hunter Rogers\\Desktop\\Personal\\University of Utah\\Deep Learning\\DeepLearningProject-1\\data\\wider_face.zip\n",
      "100%|██████████| 1.47G/1.47G [01:06<00:00, 22.2MB/s]\n"
     ]
    },
    {
     "data": {
      "text/plain": [
       "'data/wider_face.zip'"
      ]
     },
     "execution_count": 20,
     "metadata": {},
     "output_type": "execute_result"
    }
   ],
   "source": [
    "import gdown\n",
    "\n",
    "file_id = \"15hGDLhsx8bLgLcIRD5DhYt5iBxnjNF1M\"\n",
    "output_path = \"data/wider_face.zip\"  # Specify the output path and filename\n",
    "\n",
    "# Download the file\n",
    "gdown.download(f\"https://drive.google.com/uc?id={file_id}\", output_path, quiet=False)\n"
   ]
  },
  {
   "cell_type": "code",
   "execution_count": 6,
   "metadata": {},
   "outputs": [
    {
     "name": "stdout",
     "output_type": "stream",
     "text": [
      "Skipping line 10423 due to parsing error: 0 0 0 0 0 0 0 0 0 0 \n",
      "\n",
      "Skipping line 86538 due to parsing error: 0 0 0 0 0 0 0 0 0 0 \n",
      "\n",
      "Skipping line 133393 due to parsing error: 0 0 0 0 0 0 0 0 0 0 \n",
      "\n",
      "Skipping line 145713 due to parsing error: 0 0 0 0 0 0 0 0 0 0 \n",
      "\n"
     ]
    }
   ],
   "source": [
    "def parse_widerface_annotations(annotation_file):\n",
    "    annotations = {}\n",
    "    with open(annotation_file, 'r') as f:\n",
    "        lines = f.readlines()\n",
    "    i = 0\n",
    "    while i < len(lines):\n",
    "        image_path = lines[i].strip()  # First line should be the image path\n",
    "        try:\n",
    "            # Attempt to parse the number of faces, skip if it fails\n",
    "            num_faces = int(lines[i + 1].strip())\n",
    "            boxes = []\n",
    "            for j in range(i + 2, i + 2 + num_faces):\n",
    "                x, y, w, h = map(int, lines[j].strip().split()[:4])\n",
    "                boxes.append([x, y, w, h])\n",
    "            annotations[image_path] = boxes\n",
    "            i += 2 + num_faces  # Move to the next image\n",
    "        except ValueError:\n",
    "            # Skip any malformed or unexpected lines\n",
    "            print(f\"Skipping line {i} due to parsing error: {lines[i]}\")\n",
    "            i += 1\n",
    "    return annotations\n",
    "\n",
    "# Usage with corrected file path\n",
    "\n",
    "annotations = parse_widerface_annotations(r'data/wider_face_split/wider_face_split/wider_face_train_bbx_gt.txt')\n"
   ]
  },
  {
   "cell_type": "code",
   "execution_count": 8,
   "metadata": {},
   "outputs": [
    {
     "name": "stdout",
     "output_type": "stream",
     "text": [
      "Image size: (1024, 1385)\n",
      "Bounding boxes: [[449, 330, 122, 149]]\n"
     ]
    }
   ],
   "source": [
    "import os\n",
    "from PIL import Image\n",
    "\n",
    "# Example: Load an image and its bounding boxes\n",
    "image_dir = \"data/wider_face/WIDER_train/images\"\n",
    "image_name = \"0--Parade/0_Parade_marchingband_1_849.jpg\"  # Example image path from annotations\n",
    "image_path = os.path.join(image_dir, image_name)\n",
    "\n",
    "# Load image and bounding boxes\n",
    "image = Image.open(image_path)\n",
    "boxes = annotations[image_name]  # Bounding boxes for this image\n",
    "\n",
    "print(\"Image size:\", image.size)\n",
    "print(\"Bounding boxes:\", boxes)\n"
   ]
  },
  {
   "cell_type": "code",
   "execution_count": 12,
   "metadata": {},
   "outputs": [],
   "source": [
    "from PIL import Image, ImageDraw\n",
    "\n",
    "def display_image_with_boxes(image_path, boxes):\n",
    "    # Open the image\n",
    "    image = Image.open(image_path).convert(\"RGB\")\n",
    "    draw = ImageDraw.Draw(image)\n",
    "    \n",
    "    # Draw each bounding box in yellow\n",
    "    for box in boxes:\n",
    "        x, y, w, h = box  # Coordinates for each bounding box\n",
    "        draw.rectangle([x, y, x + w, y + h], outline=\"yellow\", width=3)\n",
    "    \n",
    "    # Display the image\n",
    "    image.show()\n",
    "\n",
    "# Example usage\n",
    "image_name = \"6--Funeral/6_Funeral_Funeral_6_66.jpg\"  # Replace with your example image\n",
    "image_path = os.path.join(image_dir, image_name)\n",
    "\n",
    "if image_name in annotations:\n",
    "    boxes = annotations[image_name]\n",
    "    display_image_with_boxes(image_path, boxes)\n",
    "else:\n",
    "    print(f\"No annotations found for {image_name}\")\n"
   ]
  },
  {
   "cell_type": "code",
   "execution_count": null,
   "metadata": {},
   "outputs": [],
   "source": [
    "import os\n",
    "import shutil\n",
    "from PIL import Image\n",
    "import random\n",
    "\n",
    "# Define paths\n",
    "data_dir = 'data/wider_face/WIDER_train/images'  # Adjusted to the base images directory\n",
    "label_file = 'data/wider_face_split/wider_face_split/wider_face_train_bbx_gt.txt'\n",
    "organized_data_dir = 'OrganizedData'\n",
    "\n",
    "# Set up directories\n",
    "images_dir = os.path.join(organized_data_dir, 'images')\n",
    "labels_dir = os.path.join(organized_data_dir, 'labels')\n",
    "os.makedirs(images_dir, exist_ok=True)\n",
    "os.makedirs(labels_dir, exist_ok=True)\n",
    "for split in ['train', 'val', 'test']:\n",
    "    os.makedirs(os.path.join(images_dir, split), exist_ok=True)\n",
    "    os.makedirs(os.path.join(labels_dir, split), exist_ok=True)\n",
    "\n",
    "# Build a dictionary to map image names to their full paths\n",
    "image_path_map = {}\n",
    "for root, _, files in os.walk(data_dir):\n",
    "    for file in files:\n",
    "        if file.endswith('.jpg'):\n",
    "            image_path_map[file] = os.path.join(root, file)\n",
    "\n",
    "# Read label data\n",
    "with open(label_file, 'r') as f:\n",
    "    lines = f.readlines()\n",
    "\n",
    "# Process the labels\n",
    "image_data = []\n",
    "i = 0\n",
    "while i < len(lines):\n",
    "    image_name = lines[i].strip()\n",
    "    if not image_name.endswith('.jpg'):\n",
    "        print(f\"Skipping invalid image name at line {i}: {image_name}\")\n",
    "        i += 1\n",
    "        continue\n",
    "\n",
    "    # Check if the next line contains a valid integer\n",
    "    try:\n",
    "        num_faces = int(lines[i + 1].strip())\n",
    "    except ValueError:\n",
    "        print(f\"Skipping invalid entry at line {i + 1}: {lines[i + 1].strip()}\")\n",
    "        i += 2  # Skip to the next image entry\n",
    "        continue\n",
    "    \n",
    "    boxes = []\n",
    "    for j in range(num_faces):\n",
    "        try:\n",
    "            # Read bounding box data\n",
    "            box_data = lines[i + 2 + j].strip()\n",
    "            parts = list(map(int, box_data.split()))\n",
    "            if len(parts) >= 4:\n",
    "                x, y, w, h = parts[:4]\n",
    "                boxes.append([x, y, w, h])\n",
    "        except Exception as e:\n",
    "            print(f\"Error reading bounding box data at line {i + 2 + j}: {e}\")\n",
    "\n",
    "    image_data.append((image_name, boxes))\n",
    "    i += 2 + num_faces\n",
    "\n",
    "# Split data into train, val, test\n",
    "random.shuffle(image_data)\n",
    "train_split = int(len(image_data) * 0.7)\n",
    "val_split = int(len(image_data) * 0.2)\n",
    "train_data = image_data[:train_split]\n",
    "val_data = image_data[train_split:train_split + val_split]\n",
    "test_data = image_data[train_split + val_split:]\n",
    "\n",
    "# Updated save_data function\n",
    "def save_data(data, split):\n",
    "    for image_name, boxes in data:\n",
    "        # Look up the full image path\n",
    "        src_image_path = image_path_map.get(os.path.basename(image_name))\n",
    "        if not src_image_path:\n",
    "            print(f\"Image not found in directory: {image_name}\")\n",
    "            continue\n",
    "        \n",
    "        dst_image_path = os.path.join(images_dir, split, os.path.basename(image_name))\n",
    "\n",
    "        # Copy the image\n",
    "        try:\n",
    "            shutil.copy2(src_image_path, dst_image_path)\n",
    "            print(f\"Copied image to {dst_image_path}\")\n",
    "        except Exception as e:\n",
    "            print(f\"Error copying image {src_image_path} to {dst_image_path}: {e}\")\n",
    "            continue\n",
    "        \n",
    "        # Open image to get its dimensions\n",
    "        try:\n",
    "            with Image.open(src_image_path) as img:\n",
    "                img_width, img_height = img.size\n",
    "        except Exception as e:\n",
    "            print(f\"Error opening image {src_image_path}: {e}\")\n",
    "            continue\n",
    "        \n",
    "        # Save the label in YOLO format\n",
    "        label_path = os.path.join(labels_dir, split, os.path.basename(image_name).replace('.jpg', '.txt'))\n",
    "        try:\n",
    "            with open(label_path, 'w') as label_file:\n",
    "                for box in boxes:\n",
    "                    x, y, w, h = box\n",
    "                    x_center = (x + w / 2) / img_width\n",
    "                    y_center = (y + h / 2) / img_height\n",
    "                    width = w / img_width\n",
    "                    height = h / img_height\n",
    "                    label_file.write(f\"0 {x_center} {y_center} {width} {height}\\n\")\n",
    "                print(f\"Label saved to {label_path}\")\n",
    "        except Exception as e:\n",
    "            print(f\"Error writing label file {label_path}: {e}\")\n",
    "\n",
    "# Save each dataset split\n",
    "save_data(train_data, 'train')\n",
    "save_data(val_data, 'val')\n",
    "save_data(test_data, 'test')\n",
    "\n",
    "print(\"Data organization complete!\")\n"
   ]
  },
  {
   "cell_type": "code",
   "execution_count": 6,
   "metadata": {},
   "outputs": [
    {
     "name": "stdout",
     "output_type": "stream",
     "text": [
      "\n",
      "Checking train split:\n",
      "All images have corresponding labels.\n",
      "All labels have corresponding images.\n",
      "\n",
      "Checking val split:\n",
      "All images have corresponding labels.\n",
      "All labels have corresponding images.\n",
      "\n",
      "Checking test split:\n",
      "All images have corresponding labels.\n",
      "All labels have corresponding images.\n"
     ]
    }
   ],
   "source": [
    "import os\n",
    "\n",
    "# Define paths for the images and labels directories\n",
    "organized_data_dir = 'OrganizedData'\n",
    "images_dir = os.path.join(organized_data_dir, 'images')\n",
    "labels_dir = os.path.join(organized_data_dir, 'labels')\n",
    "\n",
    "# Loop through each split and check for matching label files\n",
    "splits = ['train', 'val', 'test']\n",
    "for split in splits:\n",
    "    print(f\"\\nChecking {split} split:\")\n",
    "\n",
    "    # Get lists of image and label file names without extensions\n",
    "    image_files = set(f.split('.')[0] for f in os.listdir(os.path.join(images_dir, split)) if f.endswith('.jpg'))\n",
    "    label_files = set(f.split('.')[0] for f in os.listdir(os.path.join(labels_dir, split)) if f.endswith('.txt'))\n",
    "\n",
    "    # Find images without corresponding labels\n",
    "    images_without_labels = image_files - label_files\n",
    "    if images_without_labels:\n",
    "        print(f\"Images without labels: {len(images_without_labels)}\")\n",
    "        for img in images_without_labels:\n",
    "            print(f\"  {img}.jpg\")\n",
    "    else:\n",
    "        print(\"All images have corresponding labels.\")\n",
    "\n",
    "    # Find labels without corresponding images\n",
    "    labels_without_images = label_files - image_files\n",
    "    if labels_without_images:\n",
    "        print(f\"Labels without images: {len(labels_without_images)}\")\n",
    "        for lbl in labels_without_images:\n",
    "            print(f\"  {lbl}.txt\")\n",
    "    else:\n",
    "        print(\"All labels have corresponding images.\")\n"
   ]
  },
  {
   "cell_type": "code",
   "execution_count": null,
   "metadata": {},
   "outputs": [],
   "source": [
    "import os\n",
    "from pathlib import Path\n",
    "\n",
    "# Define paths\n",
    "dataset_yaml = 'dataset.yaml'  # Path to the dataset YAML file\n",
    "project_dir = 'runs/train'             # Directory where training runs are saved\n",
    "model_name = 'yolov5s'                 # Select a model size (e.g., yolov5s, yolov5m, yolov5l, yolov5x)\n",
    "\n",
    "# Run training\n",
    "!python yolov5/train.py --img 640 --batch 16 --epochs 100 --data \"C:\\Users\\Hunter Rogers\\Desktop\\Personal\\University of Utah\\Deep Learning\\DeepLearningProject-1\\dataset.yaml\" --cfg \"yolov5/models/yolov5s.yaml\" --weights \"yolov5s.pt\" --project \"runs/train\" --name \"face_detection\" --cache\n",
    "\n",
    "\n"
   ]
  },
  {
   "cell_type": "code",
   "execution_count": 13,
   "metadata": {},
   "outputs": [
    {
     "name": "stdout",
     "output_type": "stream",
     "text": [
      "c:\\Users\\Hunter Rogers\\Desktop\\Personal\\University of Utah\\Deep Learning\\DeepLearningProject-1\n"
     ]
    }
   ],
   "source": [
    "import os\n",
    "\n",
    "# Print current working directory\n",
    "print(os.getcwd())\n"
   ]
  },
  {
   "cell_type": "code",
   "execution_count": null,
   "metadata": {},
   "outputs": [],
   "source": []
  }
 ],
 "metadata": {
  "kernelspec": {
   "display_name": "Python 3",
   "language": "python",
   "name": "python3"
  },
  "language_info": {
   "codemirror_mode": {
    "name": "ipython",
    "version": 3
   },
   "file_extension": ".py",
   "mimetype": "text/x-python",
   "name": "python",
   "nbconvert_exporter": "python",
   "pygments_lexer": "ipython3",
   "version": "3.12.3"
  }
 },
 "nbformat": 4,
 "nbformat_minor": 2
}
